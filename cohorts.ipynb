{
 "cells": [
  {
   "cell_type": "code",
   "execution_count": 1,
   "metadata": {},
   "outputs": [],
   "source": [
    "#import neccesarry libraries\n",
    "import numpy as np\n",
    "import pandas as pd\n",
    "import matplotlib.pyplot as plt\n",
    "from sklearn.model_selection import train_test_split\n",
    "from sklearn.preprocessing import LabelEncoder\n",
    "from sklearn.decomposition import PCA\n",
    "from sklearn.ensemble import RandomForestRegressor\n",
    "from sklearn.metrics import mean_squared_error\n",
    "%matplotlib inline"
   ]
  },
  {
   "cell_type": "code",
   "execution_count": 4,
   "metadata": {},
   "outputs": [],
   "source": [
    "#load data\n",
    "df= pd.read_csv('rolling_stones_spotify.csv')"
   ]
  },
  {
   "cell_type": "code",
   "execution_count": 5,
   "metadata": {},
   "outputs": [
    {
     "name": "stdout",
     "output_type": "stream",
     "text": [
      "Index(['Unnamed: 0', 'name', 'album', 'release_date', 'track_number', 'id',\n",
      "       'uri', 'acousticness', 'danceability', 'energy', 'instrumentalness',\n",
      "       'liveness', 'loudness', 'speechiness', 'tempo', 'valence', 'popularity',\n",
      "       'duration_ms'],\n",
      "      dtype='object')\n"
     ]
    }
   ],
   "source": [
    "print(df.columns)"
   ]
  },
  {
   "cell_type": "code",
   "execution_count": null,
   "metadata": {},
   "outputs": [],
   "source": [
    "df.head()"
   ]
  },
  {
   "cell_type": "code",
   "execution_count": null,
   "metadata": {},
   "outputs": [],
   "source": [
    "#drop illrelevant columns\n",
    "df.drop(['Unnamed: 0','uri','id'],axis=1,inplace=True)"
   ]
  },
  {
   "cell_type": "code",
   "execution_count": null,
   "metadata": {},
   "outputs": [],
   "source": [
    "#get get descriptive statistics of each column\n",
    "df.info()"
   ]
  },
  {
   "cell_type": "code",
   "execution_count": null,
   "metadata": {},
   "outputs": [],
   "source": [
    "#check dataset shape \n",
    "df.shape"
   ]
  },
  {
   "cell_type": "markdown",
   "metadata": {},
   "source": [
    "#check description of each column"
   ]
  },
  {
   "cell_type": "code",
   "execution_count": null,
   "metadata": {},
   "outputs": [],
   "source": [
    "\n",
    "# Display descriptive statistics for the 'acousticness' column\n",
    "print(\"Descriptive statistics for the 'acousticness' column:\")\n",
    "print(df['acousticness'].describe())\n"
   ]
  },
  {
   "cell_type": "code",
   "execution_count": null,
   "metadata": {},
   "outputs": [],
   "source": [
    "# Display descriptive statistics for the 'loudness' column\n",
    "print(\"Descriptive statistics for the 'loudness' column:\")\n",
    "print(df['loudness'].describe())\n"
   ]
  },
  {
   "cell_type": "code",
   "execution_count": null,
   "metadata": {},
   "outputs": [],
   "source": [
    "# Remove duplicate rows from the DataFrame\n",
    "df = df.drop_duplicates()\n"
   ]
  },
  {
   "cell_type": "code",
   "execution_count": null,
   "metadata": {},
   "outputs": [],
   "source": [
    "duplicate_rows = df[df.duplicated()]\n",
    "if not duplicate_rows.empty:\n",
    "    print(\"Duplicate rows found:\\n\", duplicate_rows)\n",
    "else:\n",
    "    print(\"No duplicate rows found.\")"
   ]
  },
  {
   "cell_type": "code",
   "execution_count": null,
   "metadata": {},
   "outputs": [],
   "source": [
    "print(f'duplicated rows:{df.duplicated}')"
   ]
  },
  {
   "cell_type": "code",
   "execution_count": null,
   "metadata": {},
   "outputs": [],
   "source": [
    "import seaborn as sns\n",
    "import matplotlib.pyplot as plt\n",
    "\n",
    "# Create a box plot for the 'loudness' column\n",
    "plt.figure(figsize=(8, 6))\n",
    "sns.boxplot(x=df['valence'])\n",
    "plt.title(\"Box plot of the 'valence' column\")\n",
    "plt.xlabel(\"Loudness (dB)\")\n",
    "plt.show()\n"
   ]
  },
  {
   "cell_type": "code",
   "execution_count": null,
   "metadata": {},
   "outputs": [],
   "source": [
    "import seaborn as sns\n",
    "import matplotlib.pyplot as plt\n",
    "\n",
    "# Create a box plot for the 'loudness' column\n",
    "plt.figure(figsize=(8, 6))\n",
    "sns.boxplot(x=df['duration_ms'])\n",
    "plt.title(\"Box plot of the 'duration' column\")\n",
    "plt.xlabel(\"Loudness (dB)\")\n",
    "plt.show()\n"
   ]
  },
  {
   "cell_type": "code",
   "execution_count": null,
   "metadata": {},
   "outputs": [],
   "source": [
    "import seaborn as sns\n",
    "import matplotlib.pyplot as plt\n",
    "\n",
    "# Create a box plot for the 'loudness' column\n",
    "plt.figure(figsize=(8, 6))\n",
    "sns.boxplot(x=df['loudness'])\n",
    "plt.title(\"Box plot of the 'loudness' column\")\n",
    "plt.xlabel(\"Loudness (dB)\")\n",
    "plt.show()\n"
   ]
  },
  {
   "cell_type": "code",
   "execution_count": null,
   "metadata": {},
   "outputs": [],
   "source": [
    "# Calculate the lower and upper bounds for outliers\n",
    "Q1 = -8.9825\n",
    "Q3 = -4.60875\n",
    "IQR = Q3 - Q1\n",
    "lower_bound = Q1 - 1.5 * IQR\n",
    "upper_bound = Q3 + 1.5 * IQR\n",
    "\n",
    "# Remove outliers from the DataFrame\n",
    "df = df[(df['loudness'] >= lower_bound) & (df['loudness'] <= upper_bound)]\n",
    "\n"
   ]
  },
  {
   "cell_type": "code",
   "execution_count": null,
   "metadata": {},
   "outputs": [],
   "source": [
    "import seaborn as sns\n",
    "import matplotlib.pyplot as plt\n",
    "\n",
    "# Create a box plot for the 'loudness' column\n",
    "plt.figure(figsize=(8, 6))\n",
    "sns.boxplot(x=df['loudness'])\n",
    "plt.title(\"Box plot of the 'loudness' column\")\n",
    "plt.xlabel(\"Loudness (dB)\")\n",
    "plt.show()\n"
   ]
  },
  {
   "cell_type": "code",
   "execution_count": null,
   "metadata": {},
   "outputs": [],
   "source": [
    "# Remove duplicate rows\n",
    "df.drop_duplicates(inplace=True)\n",
    "\n"
   ]
  },
  {
   "cell_type": "code",
   "execution_count": null,
   "metadata": {},
   "outputs": [],
   "source": [
    "# Check for missing values\n",
    "missing_values = df.isnull().sum()\n",
    "print(\"\\nMissing values per column:\\n\", missing_values)\n"
   ]
  },
  {
   "cell_type": "code",
   "execution_count": null,
   "metadata": {},
   "outputs": [],
   "source": [
    "# Check for irrelevant entries in the 'popularity' column\n",
    "irrelevant_popularity = df[(df['popularity'] < 0) | (df['popularity'] > 100)]\n",
    "\n",
    "if not irrelevant_popularity.empty:\n",
    "    print(\"Irrelevant entries found in the 'popularity' column:\\n\", irrelevant_popularity)\n",
    "else:\n",
    "    print(\"No irrelevant entries found in the 'popularity' column.\")\n"
   ]
  },
  {
   "cell_type": "code",
   "execution_count": null,
   "metadata": {},
   "outputs": [],
   "source": [
    "# Check for irrelevant entries in the 'valence' column\n",
    "irrelevant_valence= df[(df['valence'] < 0) | (df['valence'] > 1)]\n",
    "\n",
    "if not irrelevant_valence.empty:\n",
    "    print(\"Irrelevant entries found in the 'valence' column:\\n\", irrelevant_valence)\n",
    "else:\n",
    "    print(\"No irrelevant entries found in the 'valence' column.\")\n"
   ]
  },
  {
   "cell_type": "code",
   "execution_count": null,
   "metadata": {},
   "outputs": [],
   "source": [
    "# Check for irrelevant entries in the 'acoustickness' column\n",
    "irrelevant_acoustic = df[(df['acousticness'] < 0) | (df['acousticness'] > 1)]\n",
    "\n",
    "if not irrelevant_popularity.empty:\n",
    "    print(\"Irrelevant entries found in the 'acousticness' column:\\n\", irrelevant_acoustic)\n",
    "else:\n",
    "    print(\"No irrelevant entries found in the 'acousticness' column.\")"
   ]
  },
  {
   "cell_type": "code",
   "execution_count": null,
   "metadata": {},
   "outputs": [],
   "source": [
    "# Check for irrelevant entries in the 'energy' column\n",
    "irrelevant_energy = df[(df['energy'] < 0) | (df['energy'] > 1)]\n",
    "\n",
    "if not irrelevant_popularity.empty:\n",
    "    print(\"Irrelevant entries found in the 'energy' column:\\n\", irrelevant_energy)\n",
    "else:\n",
    "    print(\"No irrelevant entries found in the 'energy' column.\")"
   ]
  },
  {
   "cell_type": "code",
   "execution_count": null,
   "metadata": {},
   "outputs": [],
   "source": [
    "df.columns"
   ]
  },
  {
   "cell_type": "code",
   "execution_count": null,
   "metadata": {},
   "outputs": [],
   "source": [
    "# Define the column to check for outliers\n",
    "column_to_check = 'loudness'\n",
    "\n",
    "# Calculate the interquartile range (IQR)\n",
    "Q1 = df[column_to_check].quantile(0.20)\n",
    "Q3 = df[column_to_check].quantile(0.80)\n",
    "IQR = Q3 - Q1\n",
    "\n",
    "# Define the lower and upper bounds for outliers\n",
    "lower_bound = Q1 - 1.5 * IQR\n",
    "upper_bound = Q3 + 1.5 * IQR\n",
    "\n",
    "# Check for outliers\n",
    "outliers = df[(df[column_to_check] < lower_bound) | (df[column_to_check] > upper_bound)]\n",
    "\n",
    "if not outliers.empty:\n",
    "    print(\"Outliers found in the '{}' column:\\n\".format(column_to_check), outliers)\n",
    "else:\n",
    "    print(\"No outliers found in the '{}' column.\".format(column_to_check))\n"
   ]
  },
  {
   "cell_type": "code",
   "execution_count": null,
   "metadata": {},
   "outputs": [],
   "source": [
    "df.head()"
   ]
  },
  {
   "cell_type": "code",
   "execution_count": null,
   "metadata": {},
   "outputs": [],
   "source": [
    "import matplotlib.pyplot as plt\n",
    "\n",
    "# Group the DataFrame by 'album' and count the number of popular songs in each album\n",
    "popular_albums = df.groupby('album')['popularity'].apply(lambda x: (x >= 40).sum()).reset_index()\n",
    "\n",
    "# Sort the albums based on the number of popular songs\n",
    "popular_albums = popular_albums.sort_values(by='popularity', ascending=False)\n",
    "\n",
    "# Plot the bar chart\n",
    "plt.figure(figsize=(20, 5))\n",
    "plt.bar(popular_albums['album'], popular_albums['popularity'], color='green')\n",
    "plt.xticks(rotation=90)\n",
    "plt.xlabel('Album')\n",
    "plt.ylabel('Number of Popular Songs (Popularity >= 40)')\n",
    "plt.title('Number of Popular Songs in Each Album')\n",
    "plt.show()\n"
   ]
  },
  {
   "cell_type": "code",
   "execution_count": null,
   "metadata": {},
   "outputs": [],
   "source": [
    "df.head()"
   ]
  },
  {
   "cell_type": "code",
   "execution_count": null,
   "metadata": {},
   "outputs": [],
   "source": [
    "\n",
    "# Set the default popularity threshold\n",
    "popularity_threshold = 40\n",
    "\n",
    "# Calculate the number of popular songs for each album\n",
    "popular_albums = df.groupby('album')['popularity'].apply(lambda x: (x >= popularity_threshold).sum()).reset_index()\n",
    "\n",
    "# Select the top two albums with the highest count of popular songs\n",
    "top_albums = popular_albums.nlargest(2, 'popularity')\n",
    "\n",
    "# Display the top two albums\n",
    "print(\"Top two albums recommended based on popularity:\")\n",
    "print(top_albums)\n"
   ]
  },
  {
   "cell_type": "code",
   "execution_count": null,
   "metadata": {},
   "outputs": [],
   "source": [
    "# Select numerical features for EDA\n",
    "numerical_features = ['acousticness', 'danceability', 'energy', 'instrumentalness',\n",
    "                      'liveness', 'loudness', 'speechiness', 'tempo', 'valence', 'popularity']\n",
    "\n",
    "# Plot histograms for numerical features\n",
    "plt.figure(figsize=(12, 10))\n",
    "for i, feature in enumerate(numerical_features, start=1):\n",
    "    plt.subplot(4, 3, i)\n",
    "    plt.hist(df[feature], bins=30, color='green', edgecolor='black', alpha=0.7)\n",
    "    plt.xlabel(feature)\n",
    "    plt.ylabel('Frequency')\n",
    "    plt.title(f'Distribution of {feature}')\n",
    "plt.tight_layout()\n",
    "plt.show()\n"
   ]
  },
  {
   "cell_type": "markdown",
   "metadata": {},
   "source": [
    "1. **Instrumentalness**: Decreases sharply across the x-axis, indicating a transition from instrumental to vocal-heavy compositions.\n",
    "2. **Tempo**: Peaks at higher values, suggesting a prevalence of faster-paced songs.\n",
    "3. **Speechiness**: Decreases gradually, implying a preference for more musical compositions over spoken-word elements.\n",
    "4. **Energy**: Shows a positive correlation with song count, indicating a preference for energetically charged tracks.\n",
    "5. **Popularity**: Peaks around the 20 mark on the x-axis, suggesting certain thresholds for song popularity.\n",
    "6. **Valence**: Demonstrates an almost proportional distribution, indicating a balance between positive and negative emotional content.\n"
   ]
  },
  {
   "cell_type": "code",
   "execution_count": null,
   "metadata": {},
   "outputs": [],
   "source": [
    "import seaborn as sns\n",
    "\n",
    "# Select pairs of numerical features for scatter plots\n",
    "pairs = [('acousticness', 'energy'), ('danceability', 'valence'), ('loudness', 'tempo'), ('energy', 'valence')]\n",
    "\n",
    "# Plot scatter plots for pairs of numerical features\n",
    "plt.figure(figsize=(12, 8))\n",
    "for i, pair in enumerate(pairs, start=1):\n",
    "    plt.subplot(2, 2, i)\n",
    "    sns.scatterplot(x=pair[0], y=pair[1], data=df, color='skyblue', alpha=0.7)\n",
    "    plt.xlabel(pair[0])\n",
    "    plt.ylabel(pair[1])\n",
    "    plt.title(f'Scatter Plot of {pair[0]} vs. {pair[1]}')\n",
    "plt.tight_layout()\n",
    "plt.show()\n"
   ]
  },
  {
   "cell_type": "code",
   "execution_count": null,
   "metadata": {},
   "outputs": [],
   "source": [
    "# Compute the correlation matrix\n",
    "correlation_matrix = df[numerical_features].corr()\n",
    "\n",
    "# Plot the heatmap of the correlation matrix\n",
    "plt.figure(figsize=(10, 8))\n",
    "sns.heatmap(correlation_matrix, annot=True, cmap='coolwarm', fmt=\".2f\", linewidths=0.5)\n",
    "plt.title('Correlation Matrix of Numerical Features')\n",
    "plt.show()\n"
   ]
  },
  {
   "cell_type": "code",
   "execution_count": null,
   "metadata": {},
   "outputs": [],
   "source": [
    "# Define the numerical feature to visualize\n",
    "numerical_feature = 'valence'\n",
    "\n",
    "# Plot the box plot for the selected numerical feature across different albums\n",
    "plt.figure(figsize=(20, 5))\n",
    "sns.boxplot(x='album', y=numerical_feature, data=df, palette='Set3')\n",
    "plt.xticks(rotation=90)\n",
    "plt.xlabel('Album')\n",
    "plt.ylabel(numerical_feature)\n",
    "plt.title(f'Box Plot of {numerical_feature} across Album')\n",
    "plt.show()\n"
   ]
  },
  {
   "cell_type": "code",
   "execution_count": null,
   "metadata": {},
   "outputs": [],
   "source": [
    "# Define the numerical feature to visualize\n",
    "numerical_feature = 'tempo'\n",
    "\n",
    "# Plot the box plot for the selected numerical feature across different albums\n",
    "plt.figure(figsize=(20, 5))\n",
    "sns.boxplot(x='album', y=numerical_feature, data=df, palette='Set3')\n",
    "plt.xticks(rotation=90)\n",
    "plt.xlabel('Album')\n",
    "plt.ylabel(numerical_feature)\n",
    "plt.title(f'Box Plot of {numerical_feature} across Album')\n",
    "plt.show()\n"
   ]
  },
  {
   "cell_type": "code",
   "execution_count": null,
   "metadata": {},
   "outputs": [],
   "source": [
    "import matplotlib.pyplot as plt\n",
    "\n",
    "# Plot a histogram of popularity scores\n",
    "plt.figure(figsize=(10, 6))\n",
    "plt.hist(df['popularity'], bins=20, color='green', edgecolor='red', alpha=0.7)\n",
    "plt.xlabel('Popularity')\n",
    "plt.ylabel('Frequency')\n",
    "plt.title('Distribution of Popularity Scores')\n",
    "plt.grid(True)\n",
    "plt.show()\n"
   ]
  },
  {
   "cell_type": "markdown",
   "metadata": {},
   "source": [
    "#if we were to look at he scope of this project one hot encoding the categprical columns would widely increase the dimentionality of the dataset\n",
    "#lead to increase in noise in the data set \n",
    "#so we will be droping the categorical columns"
   ]
  },
  {
   "cell_type": "code",
   "execution_count": null,
   "metadata": {},
   "outputs": [],
   "source": [
    "#drop the unused columns for model accuracy\n",
    "df.drop(['name', 'album',],axis=1,inplace=True)"
   ]
  },
  {
   "cell_type": "code",
   "execution_count": null,
   "metadata": {},
   "outputs": [],
   "source": [
    "# Convert 'release_date' column to datetime format\n",
    "df['release_date'] = pd.to_datetime(df['release_date'], errors='coerce')\n",
    "\n",
    "# Check for any remaining non-numeric values in the DataFrame\n",
    "non_numeric_values = df.select_dtypes(exclude=['number'])\n",
    "print(\"Columns with non-numeric values:\")\n",
    "print(non_numeric_values.head())\n"
   ]
  },
  {
   "cell_type": "code",
   "execution_count": null,
   "metadata": {},
   "outputs": [],
   "source": [
    "df.columns"
   ]
  },
  {
   "cell_type": "code",
   "execution_count": null,
   "metadata": {},
   "outputs": [],
   "source": [
    "df.info()"
   ]
  },
  {
   "cell_type": "code",
   "execution_count": null,
   "metadata": {},
   "outputs": [],
   "source": [
    "# Calculate correlation coefficients between popularity and other numerical features\n",
    "correlation_matrix = df.corr()\n",
    "popularity_correlation = correlation_matrix['popularity'].sort_values(ascending=False)\n",
    "\n",
    "print(\"Correlation coefficients between popularity and other features:\")\n",
    "print(popularity_correlation)\n"
   ]
  },
  {
   "cell_type": "markdown",
   "metadata": {},
   "source": [
    "\n",
    "The correlation data reveals how different features relate to a song's popularity:\n",
    "\n",
    "- **Positive Correlation:**\n",
    "  - Features like loudness, danceability, and acousticness show a positive relationship with popularity, indicating that louder, more danceable, and more acoustic songs tend to be more popular.\n",
    "\n",
    "- **Negative Correlation:**\n",
    "  - Features like speechiness, track number, and liveness display a negative relationship with popularity, suggesting that songs with lower speechiness, fewer tracks, and lower liveness are more popular.\n",
    "\n",
    "- **Weak Correlations:**\n",
    "  - Features like duration, valence, tempo, energy, and release date exhibit weaker correlations with popularity, indicating less pronounced effects on popularity.\n",
    "\n"
   ]
  },
  {
   "cell_type": "code",
   "execution_count": null,
   "metadata": {},
   "outputs": [],
   "source": [
    "# Convert release_date to datetime\n",
    "df['release_date'] = pd.to_datetime(df['release_date'])\n",
    "\n",
    "# Popularity Trends Analysis\n",
    "df['year'] = df['release_date'].dt.year\n",
    "popularity_trends = df.groupby('year')['popularity'].mean()\n",
    "\n",
    "plt.figure(figsize=(10, 6))\n",
    "popularity_trends.plot(marker='o', color='blue')\n",
    "plt.title('Popularity Trends Over Time')\n",
    "plt.xlabel('Year')\n",
    "plt.ylabel('Average Popularity')\n",
    "plt.grid(True)\n",
    "plt.show()"
   ]
  },
  {
   "cell_type": "code",
   "execution_count": null,
   "metadata": {},
   "outputs": [],
   "source": [
    "from sklearn.cluster import KMeans\n",
    "from sklearn.preprocessing import StandardScaler\n",
    "from sklearn.decomposition import PCA\n",
    "\n",
    "# Select relevant features for clustering\n",
    "features = ['acousticness', 'danceability', 'energy', 'instrumentalness', \n",
    "            'liveness', 'loudness', 'speechiness', 'tempo', 'valence']\n"
   ]
  },
  {
   "cell_type": "code",
   "execution_count": null,
   "metadata": {},
   "outputs": [],
   "source": [
    "\n",
    "# Standardize the data\n",
    "scaler = StandardScaler()\n",
    "scaled_features = scaler.fit_transform(df[features])\n",
    "\n",
    "# Determine the optimal number of clusters using the elbow method\n",
    "inertia = []\n",
    "for k in range(1, 11):\n",
    "    kmeans = KMeans(n_clusters=k, random_state=42)\n",
    "    kmeans.fit(scaled_features)\n",
    "    inertia.append(kmeans.inertia_)"
   ]
  },
  {
   "cell_type": "code",
   "execution_count": null,
   "metadata": {},
   "outputs": [],
   "source": [
    "\n",
    "# Plot the elbow method\n",
    "plt.figure(figsize=(8, 6))\n",
    "plt.plot(range(1, 11), inertia, marker='o', linestyle='--')\n",
    "plt.xlabel('Number of Clusters')\n",
    "plt.ylabel('Inertia')\n",
    "plt.title('Elbow Method for Optimal Number of Clusters')\n",
    "plt.show()\n",
    "\n",
    "# Based on the elbow method, let's choose the number of clusters (e.g., 4)"
   ]
  },
  {
   "cell_type": "code",
   "execution_count": null,
   "metadata": {},
   "outputs": [],
   "source": []
  },
  {
   "cell_type": "code",
   "execution_count": null,
   "metadata": {},
   "outputs": [],
   "source": [
    "\n",
    "\n",
    "\n",
    "# Perform K-means clustering\n",
    "kmeans = KMeans(n_clusters=4, random_state=42)\n",
    "clusters = kmeans.fit_predict(scaled_features)\n",
    "\n",
    "# Reduce dimensionality for visualization\n",
    "pca = PCA(n_components=2)\n",
    "reduced_features = pca.fit_transform(scaled_features)\n",
    "\n",
    "# Plot clusters\n",
    "plt.figure(figsize=(10, 8))\n",
    "sns.scatterplot(x=reduced_features[:, 0], y=reduced_features[:, 1], hue=clusters, palette='viridis', legend='full')\n",
    "plt.xlabel('Principal Component 1')\n",
    "plt.ylabel('Principal Component 2')\n",
    "plt.title('Clusters of Songs')\n",
    "plt.legend(title='Cluster')\n",
    "plt.show()\n"
   ]
  }
 ],
 "metadata": {
  "kernelspec": {
   "display_name": "Python 3",
   "language": "python",
   "name": "python3"
  },
  "language_info": {
   "codemirror_mode": {
    "name": "ipython",
    "version": 3
   },
   "file_extension": ".py",
   "mimetype": "text/x-python",
   "name": "python",
   "nbconvert_exporter": "python",
   "pygments_lexer": "ipython3",
   "version": "3.12.2"
  }
 },
 "nbformat": 4,
 "nbformat_minor": 2
}
